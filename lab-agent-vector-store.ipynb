{
 "cells": [
  {
   "cell_type": "markdown",
   "id": "efad6479-7fb1-40c4-8610-8963f8de307f",
   "metadata": {},
   "source": [
    "# Lab | Agent & Vector store\n",
    "\n",
    "**Change the state union dataset and replicate this lab by updating the prompts accordingly.**\n",
    "\n",
    "One such dataset is the [sonnets.txt](https://github.com/martin-gorner/tensorflow-rnn-shakespeare/blob/master/shakespeare/sonnets.txt) dataset or any other data of your choice from the same git."
   ]
  },
  {
   "cell_type": "markdown",
   "id": "68b24990",
   "metadata": {},
   "source": [
    "# Combine agents and vector stores\n",
    "\n",
    "This notebook covers how to combine agents and vector stores. The use case for this is that you've ingested your data into a vector store and want to interact with it in an agentic manner.\n",
    "\n",
    "The recommended method for doing so is to create a `RetrievalQA` and then use that as a tool in the overall agent. Let's take a look at doing this below. You can do this with multiple different vector DBs, and use the agent as a way to route between them. There are two different ways of doing this - you can either let the agent use the vector stores as normal tools, or you can set `return_direct=True` to really just use the agent as a router."
   ]
  },
  {
   "cell_type": "markdown",
   "id": "9b22020a",
   "metadata": {},
   "source": [
    "## Create the vector store"
   ]
  },
  {
   "cell_type": "code",
   "execution_count": 1,
   "id": "12df91e0-7322-43c2-96cd-0159d017a1e1",
   "metadata": {
    "tags": []
   },
   "outputs": [
    {
     "name": "stdout",
     "output_type": "stream",
     "text": [
      "Collecting chromadb\n",
      "  Downloading chromadb-1.0.5-cp39-abi3-win_amd64.whl.metadata (7.0 kB)\n",
      "Requirement already satisfied: langchain in c:\\users\\abrar\\anaconda3\\lib\\site-packages (0.3.23)\n",
      "Requirement already satisfied: langchain_community in c:\\users\\abrar\\anaconda3\\lib\\site-packages (0.3.21)\n",
      "Requirement already satisfied: langchain_openai in c:\\users\\abrar\\anaconda3\\lib\\site-packages (0.3.12)\n",
      "Collecting build>=1.0.3 (from chromadb)\n",
      "  Downloading build-1.2.2.post1-py3-none-any.whl.metadata (6.5 kB)\n",
      "Requirement already satisfied: pydantic>=1.9 in c:\\users\\abrar\\anaconda3\\lib\\site-packages (from chromadb) (2.10.3)\n",
      "Collecting chroma-hnswlib==0.7.6 (from chromadb)\n",
      "  Downloading chroma_hnswlib-0.7.6-cp311-cp311-win_amd64.whl.metadata (262 bytes)\n",
      "Collecting fastapi==0.115.9 (from chromadb)\n",
      "  Downloading fastapi-0.115.9-py3-none-any.whl.metadata (27 kB)\n",
      "Collecting uvicorn>=0.18.3 (from uvicorn[standard]>=0.18.3->chromadb)\n",
      "  Downloading uvicorn-0.34.1-py3-none-any.whl.metadata (6.5 kB)\n",
      "Requirement already satisfied: numpy>=1.22.5 in c:\\users\\abrar\\anaconda3\\lib\\site-packages (from chromadb) (1.26.4)\n",
      "Collecting posthog>=2.4.0 (from chromadb)\n",
      "  Downloading posthog-3.25.0-py2.py3-none-any.whl.metadata (3.0 kB)\n",
      "Requirement already satisfied: typing-extensions>=4.5.0 in c:\\users\\abrar\\appdata\\roaming\\python\\python311\\site-packages (from chromadb) (4.12.2)\n",
      "Collecting onnxruntime>=1.14.1 (from chromadb)\n",
      "  Downloading onnxruntime-1.21.0-cp311-cp311-win_amd64.whl.metadata (4.9 kB)\n",
      "Collecting opentelemetry-api>=1.2.0 (from chromadb)\n",
      "  Downloading opentelemetry_api-1.32.1-py3-none-any.whl.metadata (1.6 kB)\n",
      "Collecting opentelemetry-exporter-otlp-proto-grpc>=1.2.0 (from chromadb)\n",
      "  Downloading opentelemetry_exporter_otlp_proto_grpc-1.32.1-py3-none-any.whl.metadata (2.5 kB)\n",
      "Collecting opentelemetry-instrumentation-fastapi>=0.41b0 (from chromadb)\n",
      "  Downloading opentelemetry_instrumentation_fastapi-0.53b1-py3-none-any.whl.metadata (2.2 kB)\n",
      "Collecting opentelemetry-sdk>=1.2.0 (from chromadb)\n",
      "  Downloading opentelemetry_sdk-1.32.1-py3-none-any.whl.metadata (1.6 kB)\n",
      "Requirement already satisfied: tokenizers>=0.13.2 in c:\\users\\abrar\\anaconda3\\lib\\site-packages (from chromadb) (0.21.1)\n",
      "Collecting pypika>=0.48.9 (from chromadb)\n",
      "  Downloading PyPika-0.48.9.tar.gz (67 kB)\n",
      "     ---------------------------------------- 0.0/67.3 kB ? eta -:--:--\n",
      "     ----------------------- -------------- 41.0/67.3 kB 991.0 kB/s eta 0:00:01\n",
      "     ----------------------- -------------- 41.0/67.3 kB 991.0 kB/s eta 0:00:01\n",
      "     ---------------------------------- --- 61.4/67.3 kB 544.7 kB/s eta 0:00:01\n",
      "     -------------------------------------- 67.3/67.3 kB 365.5 kB/s eta 0:00:00\n",
      "  Installing build dependencies: started\n",
      "  Installing build dependencies: finished with status 'done'\n",
      "  Getting requirements to build wheel: started\n",
      "  Getting requirements to build wheel: finished with status 'done'\n",
      "  Preparing metadata (pyproject.toml): started\n",
      "  Preparing metadata (pyproject.toml): finished with status 'done'\n",
      "Requirement already satisfied: tqdm>=4.65.0 in c:\\users\\abrar\\anaconda3\\lib\\site-packages (from chromadb) (4.67.1)\n",
      "Requirement already satisfied: overrides>=7.3.1 in c:\\users\\abrar\\anaconda3\\lib\\site-packages (from chromadb) (7.4.0)\n",
      "Collecting importlib-resources (from chromadb)\n",
      "  Downloading importlib_resources-6.5.2-py3-none-any.whl.metadata (3.9 kB)\n",
      "Requirement already satisfied: grpcio>=1.58.0 in c:\\users\\abrar\\anaconda3\\lib\\site-packages (from chromadb) (1.70.0)\n",
      "Collecting bcrypt>=4.0.1 (from chromadb)\n",
      "  Downloading bcrypt-4.3.0-cp39-abi3-win_amd64.whl.metadata (10 kB)\n",
      "Requirement already satisfied: typer>=0.9.0 in c:\\users\\abrar\\anaconda3\\lib\\site-packages (from chromadb) (0.9.0)\n",
      "Collecting kubernetes>=28.1.0 (from chromadb)\n",
      "  Downloading kubernetes-32.0.1-py2.py3-none-any.whl.metadata (1.7 kB)\n",
      "Collecting tenacity>=8.2.3 (from chromadb)\n",
      "  Downloading tenacity-9.1.2-py3-none-any.whl.metadata (1.2 kB)\n",
      "Requirement already satisfied: pyyaml>=6.0.0 in c:\\users\\abrar\\anaconda3\\lib\\site-packages (from chromadb) (6.0.1)\n",
      "Collecting mmh3>=4.0.1 (from chromadb)\n",
      "  Downloading mmh3-5.1.0-cp311-cp311-win_amd64.whl.metadata (16 kB)\n",
      "Requirement already satisfied: orjson>=3.9.12 in c:\\users\\abrar\\anaconda3\\lib\\site-packages (from chromadb) (3.10.16)\n",
      "Collecting httpx>=0.27.0 (from chromadb)\n",
      "  Downloading httpx-0.28.1-py3-none-any.whl.metadata (7.1 kB)\n",
      "Requirement already satisfied: rich>=10.11.0 in c:\\users\\abrar\\anaconda3\\lib\\site-packages (from chromadb) (13.3.5)\n",
      "Requirement already satisfied: jsonschema>=4.19.0 in c:\\users\\abrar\\anaconda3\\lib\\site-packages (from chromadb) (4.19.2)\n",
      "Collecting starlette<0.46.0,>=0.40.0 (from fastapi==0.115.9->chromadb)\n",
      "  Downloading starlette-0.45.3-py3-none-any.whl.metadata (6.3 kB)\n",
      "Requirement already satisfied: langchain-core<1.0.0,>=0.3.51 in c:\\users\\abrar\\anaconda3\\lib\\site-packages (from langchain) (0.3.52)\n",
      "Requirement already satisfied: langchain-text-splitters<1.0.0,>=0.3.8 in c:\\users\\abrar\\anaconda3\\lib\\site-packages (from langchain) (0.3.8)\n",
      "Requirement already satisfied: langsmith<0.4,>=0.1.17 in c:\\users\\abrar\\anaconda3\\lib\\site-packages (from langchain) (0.3.31)\n",
      "Requirement already satisfied: SQLAlchemy<3,>=1.4 in c:\\users\\abrar\\anaconda3\\lib\\site-packages (from langchain) (2.0.25)\n",
      "Requirement already satisfied: requests<3,>=2 in c:\\users\\abrar\\anaconda3\\lib\\site-packages (from langchain) (2.32.3)\n",
      "Requirement already satisfied: aiohttp<4.0.0,>=3.8.3 in c:\\users\\abrar\\anaconda3\\lib\\site-packages (from langchain_community) (3.10.11)\n",
      "Requirement already satisfied: dataclasses-json<0.7,>=0.5.7 in c:\\users\\abrar\\anaconda3\\lib\\site-packages (from langchain_community) (0.6.7)\n",
      "Requirement already satisfied: pydantic-settings<3.0.0,>=2.4.0 in c:\\users\\abrar\\anaconda3\\lib\\site-packages (from langchain_community) (2.6.1)\n",
      "Requirement already satisfied: httpx-sse<1.0.0,>=0.4.0 in c:\\users\\abrar\\anaconda3\\lib\\site-packages (from langchain_community) (0.4.0)\n",
      "Requirement already satisfied: openai<2.0.0,>=1.68.2 in c:\\users\\abrar\\anaconda3\\lib\\site-packages (from langchain_openai) (1.74.0)\n",
      "Requirement already satisfied: tiktoken<1,>=0.7 in c:\\users\\abrar\\anaconda3\\lib\\site-packages (from langchain_openai) (0.9.0)\n",
      "Requirement already satisfied: aiohappyeyeballs>=2.3.0 in c:\\users\\abrar\\anaconda3\\lib\\site-packages (from aiohttp<4.0.0,>=3.8.3->langchain_community) (2.6.1)\n",
      "Requirement already satisfied: aiosignal>=1.1.2 in c:\\users\\abrar\\anaconda3\\lib\\site-packages (from aiohttp<4.0.0,>=3.8.3->langchain_community) (1.2.0)\n",
      "Requirement already satisfied: attrs>=17.3.0 in c:\\users\\abrar\\anaconda3\\lib\\site-packages (from aiohttp<4.0.0,>=3.8.3->langchain_community) (23.1.0)\n",
      "Requirement already satisfied: frozenlist>=1.1.1 in c:\\users\\abrar\\anaconda3\\lib\\site-packages (from aiohttp<4.0.0,>=3.8.3->langchain_community) (1.4.0)\n",
      "Requirement already satisfied: multidict<7.0,>=4.5 in c:\\users\\abrar\\anaconda3\\lib\\site-packages (from aiohttp<4.0.0,>=3.8.3->langchain_community) (6.0.4)\n",
      "Requirement already satisfied: yarl<2.0,>=1.12.0 in c:\\users\\abrar\\anaconda3\\lib\\site-packages (from aiohttp<4.0.0,>=3.8.3->langchain_community) (1.19.0)\n",
      "Requirement already satisfied: packaging>=19.1 in c:\\users\\abrar\\anaconda3\\lib\\site-packages (from build>=1.0.3->chromadb) (23.2)\n",
      "Collecting pyproject_hooks (from build>=1.0.3->chromadb)\n",
      "  Downloading pyproject_hooks-1.2.0-py3-none-any.whl.metadata (1.3 kB)\n",
      "Requirement already satisfied: colorama in c:\\users\\abrar\\appdata\\roaming\\python\\python311\\site-packages (from build>=1.0.3->chromadb) (0.4.6)\n",
      "Requirement already satisfied: marshmallow<4.0.0,>=3.18.0 in c:\\users\\abrar\\anaconda3\\lib\\site-packages (from dataclasses-json<0.7,>=0.5.7->langchain_community) (3.26.1)\n",
      "Requirement already satisfied: typing-inspect<1,>=0.4.0 in c:\\users\\abrar\\anaconda3\\lib\\site-packages (from dataclasses-json<0.7,>=0.5.7->langchain_community) (0.9.0)\n",
      "Requirement already satisfied: anyio in c:\\users\\abrar\\anaconda3\\lib\\site-packages (from httpx>=0.27.0->chromadb) (4.2.0)\n",
      "Requirement already satisfied: certifi in c:\\users\\abrar\\anaconda3\\lib\\site-packages (from httpx>=0.27.0->chromadb) (2025.1.31)\n",
      "Requirement already satisfied: httpcore==1.* in c:\\users\\abrar\\anaconda3\\lib\\site-packages (from httpx>=0.27.0->chromadb) (1.0.2)\n",
      "Requirement already satisfied: idna in c:\\users\\abrar\\anaconda3\\lib\\site-packages (from httpx>=0.27.0->chromadb) (3.4)\n",
      "Requirement already satisfied: h11<0.15,>=0.13 in c:\\users\\abrar\\anaconda3\\lib\\site-packages (from httpcore==1.*->httpx>=0.27.0->chromadb) (0.14.0)\n",
      "Requirement already satisfied: jsonschema-specifications>=2023.03.6 in c:\\users\\abrar\\anaconda3\\lib\\site-packages (from jsonschema>=4.19.0->chromadb) (2023.7.1)\n",
      "Requirement already satisfied: referencing>=0.28.4 in c:\\users\\abrar\\anaconda3\\lib\\site-packages (from jsonschema>=4.19.0->chromadb) (0.30.2)\n",
      "Requirement already satisfied: rpds-py>=0.7.1 in c:\\users\\abrar\\anaconda3\\lib\\site-packages (from jsonschema>=4.19.0->chromadb) (0.10.6)\n",
      "Requirement already satisfied: six>=1.9.0 in c:\\users\\abrar\\appdata\\roaming\\python\\python311\\site-packages (from kubernetes>=28.1.0->chromadb) (1.17.0)\n",
      "Requirement already satisfied: python-dateutil>=2.5.3 in c:\\users\\abrar\\appdata\\roaming\\python\\python311\\site-packages (from kubernetes>=28.1.0->chromadb) (2.9.0.post0)\n",
      "Collecting google-auth>=1.0.1 (from kubernetes>=28.1.0->chromadb)\n",
      "  Downloading google_auth-2.39.0-py2.py3-none-any.whl.metadata (6.2 kB)\n",
      "Requirement already satisfied: websocket-client!=0.40.0,!=0.41.*,!=0.42.*,>=0.32.0 in c:\\users\\abrar\\anaconda3\\lib\\site-packages (from kubernetes>=28.1.0->chromadb) (0.58.0)\n",
      "Collecting requests-oauthlib (from kubernetes>=28.1.0->chromadb)\n",
      "  Downloading requests_oauthlib-2.0.0-py2.py3-none-any.whl.metadata (11 kB)\n",
      "Collecting oauthlib>=3.2.2 (from kubernetes>=28.1.0->chromadb)\n",
      "  Downloading oauthlib-3.2.2-py3-none-any.whl.metadata (7.5 kB)\n",
      "Requirement already satisfied: urllib3>=1.24.2 in c:\\users\\abrar\\anaconda3\\lib\\site-packages (from kubernetes>=28.1.0->chromadb) (2.0.7)\n",
      "Collecting durationpy>=0.7 (from kubernetes>=28.1.0->chromadb)\n",
      "  Downloading durationpy-0.9-py3-none-any.whl.metadata (338 bytes)\n",
      "Requirement already satisfied: jsonpatch<2.0,>=1.33 in c:\\users\\abrar\\anaconda3\\lib\\site-packages (from langchain-core<1.0.0,>=0.3.51->langchain) (1.33)\n",
      "Requirement already satisfied: requests-toolbelt<2.0.0,>=1.0.0 in c:\\users\\abrar\\anaconda3\\lib\\site-packages (from langsmith<0.4,>=0.1.17->langchain) (1.0.0)\n",
      "Requirement already satisfied: zstandard<0.24.0,>=0.23.0 in c:\\users\\abrar\\anaconda3\\lib\\site-packages (from langsmith<0.4,>=0.1.17->langchain) (0.23.0)\n",
      "Collecting coloredlogs (from onnxruntime>=1.14.1->chromadb)\n",
      "  Downloading coloredlogs-15.0.1-py2.py3-none-any.whl.metadata (12 kB)\n",
      "Requirement already satisfied: flatbuffers in c:\\users\\abrar\\anaconda3\\lib\\site-packages (from onnxruntime>=1.14.1->chromadb) (25.2.10)\n",
      "Requirement already satisfied: protobuf in c:\\users\\abrar\\anaconda3\\lib\\site-packages (from onnxruntime>=1.14.1->chromadb) (3.20.3)\n",
      "Requirement already satisfied: sympy in c:\\users\\abrar\\anaconda3\\lib\\site-packages (from onnxruntime>=1.14.1->chromadb) (1.13.1)\n",
      "Requirement already satisfied: distro<2,>=1.7.0 in c:\\users\\abrar\\anaconda3\\lib\\site-packages (from openai<2.0.0,>=1.68.2->langchain_openai) (1.8.0)\n",
      "Requirement already satisfied: jiter<1,>=0.4.0 in c:\\users\\abrar\\anaconda3\\lib\\site-packages (from openai<2.0.0,>=1.68.2->langchain_openai) (0.9.0)\n",
      "Requirement already satisfied: sniffio in c:\\users\\abrar\\anaconda3\\lib\\site-packages (from openai<2.0.0,>=1.68.2->langchain_openai) (1.3.0)\n",
      "Collecting deprecated>=1.2.6 (from opentelemetry-api>=1.2.0->chromadb)\n",
      "  Downloading Deprecated-1.2.18-py2.py3-none-any.whl.metadata (5.7 kB)\n",
      "Requirement already satisfied: importlib-metadata<8.7.0,>=6.0 in c:\\users\\abrar\\anaconda3\\lib\\site-packages (from opentelemetry-api>=1.2.0->chromadb) (7.0.1)\n",
      "Collecting googleapis-common-protos~=1.52 (from opentelemetry-exporter-otlp-proto-grpc>=1.2.0->chromadb)\n",
      "  Downloading googleapis_common_protos-1.70.0-py3-none-any.whl.metadata (9.3 kB)\n",
      "Collecting opentelemetry-exporter-otlp-proto-common==1.32.1 (from opentelemetry-exporter-otlp-proto-grpc>=1.2.0->chromadb)\n",
      "  Downloading opentelemetry_exporter_otlp_proto_common-1.32.1-py3-none-any.whl.metadata (1.9 kB)\n",
      "Collecting opentelemetry-proto==1.32.1 (from opentelemetry-exporter-otlp-proto-grpc>=1.2.0->chromadb)\n",
      "  Downloading opentelemetry_proto-1.32.1-py3-none-any.whl.metadata (2.4 kB)\n",
      "Collecting protobuf (from onnxruntime>=1.14.1->chromadb)\n",
      "  Downloading protobuf-5.29.4-cp310-abi3-win_amd64.whl.metadata (592 bytes)\n",
      "Collecting opentelemetry-instrumentation-asgi==0.53b1 (from opentelemetry-instrumentation-fastapi>=0.41b0->chromadb)\n",
      "  Downloading opentelemetry_instrumentation_asgi-0.53b1-py3-none-any.whl.metadata (2.1 kB)\n",
      "Collecting opentelemetry-instrumentation==0.53b1 (from opentelemetry-instrumentation-fastapi>=0.41b0->chromadb)\n",
      "  Downloading opentelemetry_instrumentation-0.53b1-py3-none-any.whl.metadata (6.8 kB)\n",
      "Collecting opentelemetry-semantic-conventions==0.53b1 (from opentelemetry-instrumentation-fastapi>=0.41b0->chromadb)\n",
      "  Downloading opentelemetry_semantic_conventions-0.53b1-py3-none-any.whl.metadata (2.5 kB)\n",
      "Collecting opentelemetry-util-http==0.53b1 (from opentelemetry-instrumentation-fastapi>=0.41b0->chromadb)\n",
      "  Downloading opentelemetry_util_http-0.53b1-py3-none-any.whl.metadata (2.6 kB)\n",
      "Requirement already satisfied: wrapt<2.0.0,>=1.0.0 in c:\\users\\abrar\\anaconda3\\lib\\site-packages (from opentelemetry-instrumentation==0.53b1->opentelemetry-instrumentation-fastapi>=0.41b0->chromadb) (1.14.1)\n",
      "Collecting asgiref~=3.0 (from opentelemetry-instrumentation-asgi==0.53b1->opentelemetry-instrumentation-fastapi>=0.41b0->chromadb)\n",
      "  Downloading asgiref-3.8.1-py3-none-any.whl.metadata (9.3 kB)\n",
      "Collecting monotonic>=1.5 (from posthog>=2.4.0->chromadb)\n",
      "  Downloading monotonic-1.6-py2.py3-none-any.whl.metadata (1.5 kB)\n",
      "Collecting backoff>=1.10.0 (from posthog>=2.4.0->chromadb)\n",
      "  Downloading backoff-2.2.1-py3-none-any.whl.metadata (14 kB)\n",
      "Requirement already satisfied: annotated-types>=0.6.0 in c:\\users\\abrar\\anaconda3\\lib\\site-packages (from pydantic>=1.9->chromadb) (0.6.0)\n",
      "Requirement already satisfied: pydantic-core==2.27.1 in c:\\users\\abrar\\anaconda3\\lib\\site-packages (from pydantic>=1.9->chromadb) (2.27.1)\n",
      "Requirement already satisfied: python-dotenv>=0.21.0 in c:\\users\\abrar\\anaconda3\\lib\\site-packages (from pydantic-settings<3.0.0,>=2.4.0->langchain_community) (0.21.0)\n",
      "Requirement already satisfied: charset-normalizer<4,>=2 in c:\\users\\abrar\\anaconda3\\lib\\site-packages (from requests<3,>=2->langchain) (2.0.4)\n",
      "Requirement already satisfied: markdown-it-py<3.0.0,>=2.2.0 in c:\\users\\abrar\\anaconda3\\lib\\site-packages (from rich>=10.11.0->chromadb) (2.2.0)\n",
      "Requirement already satisfied: pygments<3.0.0,>=2.13.0 in c:\\users\\abrar\\appdata\\roaming\\python\\python311\\site-packages (from rich>=10.11.0->chromadb) (2.19.1)\n",
      "Requirement already satisfied: greenlet!=0.4.17 in c:\\users\\abrar\\anaconda3\\lib\\site-packages (from SQLAlchemy<3,>=1.4->langchain) (3.0.1)\n",
      "Requirement already satisfied: regex>=2022.1.18 in c:\\users\\abrar\\anaconda3\\lib\\site-packages (from tiktoken<1,>=0.7->langchain_openai) (2023.10.3)\n",
      "Requirement already satisfied: huggingface-hub<1.0,>=0.16.4 in c:\\users\\abrar\\anaconda3\\lib\\site-packages (from tokenizers>=0.13.2->chromadb) (0.30.1)\n",
      "Requirement already satisfied: click<9.0.0,>=7.1.1 in c:\\users\\abrar\\anaconda3\\lib\\site-packages (from typer>=0.9.0->chromadb) (8.1.7)\n",
      "Collecting httptools>=0.6.3 (from uvicorn[standard]>=0.18.3->chromadb)\n",
      "  Downloading httptools-0.6.4-cp311-cp311-win_amd64.whl.metadata (3.7 kB)\n",
      "Collecting watchfiles>=0.13 (from uvicorn[standard]>=0.18.3->chromadb)\n",
      "  Downloading watchfiles-1.0.5-cp311-cp311-win_amd64.whl.metadata (5.0 kB)\n",
      "Collecting websockets>=10.4 (from uvicorn[standard]>=0.18.3->chromadb)\n",
      "  Downloading websockets-15.0.1-cp311-cp311-win_amd64.whl.metadata (7.0 kB)\n",
      "Requirement already satisfied: cachetools<6.0,>=2.0.0 in c:\\users\\abrar\\anaconda3\\lib\\site-packages (from google-auth>=1.0.1->kubernetes>=28.1.0->chromadb) (4.2.2)\n",
      "Requirement already satisfied: pyasn1-modules>=0.2.1 in c:\\users\\abrar\\anaconda3\\lib\\site-packages (from google-auth>=1.0.1->kubernetes>=28.1.0->chromadb) (0.2.8)\n",
      "Collecting rsa<5,>=3.1.4 (from google-auth>=1.0.1->kubernetes>=28.1.0->chromadb)\n",
      "  Downloading rsa-4.9.1-py3-none-any.whl.metadata (5.6 kB)\n",
      "Requirement already satisfied: filelock in c:\\users\\abrar\\anaconda3\\lib\\site-packages (from huggingface-hub<1.0,>=0.16.4->tokenizers>=0.13.2->chromadb) (3.13.1)\n",
      "Requirement already satisfied: fsspec>=2023.5.0 in c:\\users\\abrar\\anaconda3\\lib\\site-packages (from huggingface-hub<1.0,>=0.16.4->tokenizers>=0.13.2->chromadb) (2023.10.0)\n",
      "Requirement already satisfied: zipp>=0.5 in c:\\users\\abrar\\anaconda3\\lib\\site-packages (from importlib-metadata<8.7.0,>=6.0->opentelemetry-api>=1.2.0->chromadb) (3.17.0)\n",
      "Requirement already satisfied: jsonpointer>=1.9 in c:\\users\\abrar\\anaconda3\\lib\\site-packages (from jsonpatch<2.0,>=1.33->langchain-core<1.0.0,>=0.3.51->langchain) (2.1)\n",
      "Requirement already satisfied: mdurl~=0.1 in c:\\users\\abrar\\anaconda3\\lib\\site-packages (from markdown-it-py<3.0.0,>=2.2.0->rich>=10.11.0->chromadb) (0.1.0)\n",
      "Requirement already satisfied: mypy-extensions>=0.3.0 in c:\\users\\abrar\\anaconda3\\lib\\site-packages (from typing-inspect<1,>=0.4.0->dataclasses-json<0.7,>=0.5.7->langchain_community) (1.0.0)\n",
      "Requirement already satisfied: propcache>=0.2.1 in c:\\users\\abrar\\anaconda3\\lib\\site-packages (from yarl<2.0,>=1.12.0->aiohttp<4.0.0,>=3.8.3->langchain_community) (0.3.1)\n",
      "Collecting humanfriendly>=9.1 (from coloredlogs->onnxruntime>=1.14.1->chromadb)\n",
      "  Downloading humanfriendly-10.0-py2.py3-none-any.whl.metadata (9.2 kB)\n",
      "Requirement already satisfied: mpmath<1.4,>=1.1.0 in c:\\users\\abrar\\anaconda3\\lib\\site-packages (from sympy->onnxruntime>=1.14.1->chromadb) (1.3.0)\n",
      "Collecting pyreadline3 (from humanfriendly>=9.1->coloredlogs->onnxruntime>=1.14.1->chromadb)\n",
      "  Downloading pyreadline3-3.5.4-py3-none-any.whl.metadata (4.7 kB)\n",
      "Requirement already satisfied: pyasn1<0.5.0,>=0.4.6 in c:\\users\\abrar\\anaconda3\\lib\\site-packages (from pyasn1-modules>=0.2.1->google-auth>=1.0.1->kubernetes>=28.1.0->chromadb) (0.4.8)\n",
      "Downloading chromadb-1.0.5-cp39-abi3-win_amd64.whl (18.2 MB)\n",
      "   ---------------------------------------- 0.0/18.2 MB ? eta -:--:--\n",
      "   ---------------------------------------- 0.1/18.2 MB 6.4 MB/s eta 0:00:03\n",
      "   ---------------------------------------- 0.1/18.2 MB 1.8 MB/s eta 0:00:11\n",
      "   ---------------------------------------- 0.2/18.2 MB 1.7 MB/s eta 0:00:11\n",
      "    --------------------------------------- 0.4/18.2 MB 2.0 MB/s eta 0:00:09\n",
      "    --------------------------------------- 0.4/18.2 MB 1.8 MB/s eta 0:00:10\n",
      "   - -------------------------------------- 0.5/18.2 MB 1.8 MB/s eta 0:00:10\n",
      "   - -------------------------------------- 0.6/18.2 MB 2.0 MB/s eta 0:00:09\n",
      "   - -------------------------------------- 0.8/18.2 MB 2.1 MB/s eta 0:00:09\n",
      "   - -------------------------------------- 0.9/18.2 MB 2.1 MB/s eta 0:00:09\n",
      "   -- ------------------------------------- 1.0/18.2 MB 2.1 MB/s eta 0:00:09\n",
      "   -- ------------------------------------- 1.1/18.2 MB 2.2 MB/s eta 0:00:08\n",
      "   -- ------------------------------------- 1.2/18.2 MB 2.2 MB/s eta 0:00:08\n",
      "   -- ------------------------------------- 1.4/18.2 MB 2.3 MB/s eta 0:00:08\n",
      "   --- ------------------------------------ 1.4/18.2 MB 2.3 MB/s eta 0:00:08\n",
      "   --- ------------------------------------ 1.6/18.2 MB 2.3 MB/s eta 0:00:08\n",
      "   --- ------------------------------------ 1.7/18.2 MB 2.3 MB/s eta 0:00:08\n",
      "   --- ------------------------------------ 1.8/18.2 MB 2.3 MB/s eta 0:00:08\n",
      "   ---- ----------------------------------- 2.0/18.2 MB 2.4 MB/s eta 0:00:07\n",
      "   ---- ----------------------------------- 2.0/18.2 MB 2.4 MB/s eta 0:00:07\n",
      "   ---- ----------------------------------- 2.2/18.2 MB 2.4 MB/s eta 0:00:07\n",
      "   ----- ---------------------------------- 2.3/18.2 MB 2.4 MB/s eta 0:00:07\n",
      "   ----- ---------------------------------- 2.4/18.2 MB 2.4 MB/s eta 0:00:07\n",
      "   ----- ---------------------------------- 2.5/18.2 MB 2.4 MB/s eta 0:00:07\n",
      "   ----- ---------------------------------- 2.6/18.2 MB 2.4 MB/s eta 0:00:07\n",
      "   ------ --------------------------------- 2.8/18.2 MB 2.4 MB/s eta 0:00:07\n",
      "   ------ --------------------------------- 2.8/18.2 MB 2.4 MB/s eta 0:00:07\n",
      "   ------ --------------------------------- 3.0/18.2 MB 2.4 MB/s eta 0:00:07\n",
      "   ------ --------------------------------- 3.0/18.2 MB 2.4 MB/s eta 0:00:07\n",
      "   ------ --------------------------------- 3.1/18.2 MB 2.4 MB/s eta 0:00:07\n",
      "   ------- -------------------------------- 3.2/18.2 MB 2.4 MB/s eta 0:00:07\n",
      "   ------- -------------------------------- 3.3/18.2 MB 2.3 MB/s eta 0:00:07\n",
      "   ------- -------------------------------- 3.4/18.2 MB 2.3 MB/s eta 0:00:07\n",
      "   ------- -------------------------------- 3.5/18.2 MB 2.3 MB/s eta 0:00:07\n",
      "   ------- -------------------------------- 3.6/18.2 MB 2.3 MB/s eta 0:00:07\n",
      "   -------- ------------------------------- 3.7/18.2 MB 2.3 MB/s eta 0:00:07\n",
      "   -------- ------------------------------- 3.8/18.2 MB 2.3 MB/s eta 0:00:07\n",
      "   -------- ------------------------------- 3.9/18.2 MB 2.3 MB/s eta 0:00:07\n",
      "   -------- ------------------------------- 4.0/18.2 MB 2.3 MB/s eta 0:00:07\n",
      "   --------- ------------------------------ 4.1/18.2 MB 2.3 MB/s eta 0:00:07\n",
      "   --------- ------------------------------ 4.2/18.2 MB 2.3 MB/s eta 0:00:07\n",
      "   --------- ------------------------------ 4.3/18.2 MB 2.3 MB/s eta 0:00:06\n",
      "   --------- ------------------------------ 4.5/18.2 MB 2.3 MB/s eta 0:00:06\n",
      "   ---------- ----------------------------- 4.7/18.2 MB 2.4 MB/s eta 0:00:06\n",
      "   ---------- ----------------------------- 4.8/18.2 MB 2.4 MB/s eta 0:00:06\n",
      "   ---------- ----------------------------- 5.0/18.2 MB 2.4 MB/s eta 0:00:06\n",
      "   ----------- ---------------------------- 5.1/18.2 MB 2.4 MB/s eta 0:00:06\n",
      "   ----------- ---------------------------- 5.3/18.2 MB 2.4 MB/s eta 0:00:06\n",
      "   ----------- ---------------------------- 5.4/18.2 MB 2.4 MB/s eta 0:00:06\n",
      "   ------------ --------------------------- 5.5/18.2 MB 2.5 MB/s eta 0:00:06\n",
      "   ------------ --------------------------- 5.6/18.2 MB 2.4 MB/s eta 0:00:06\n",
      "   ------------ --------------------------- 5.7/18.2 MB 2.4 MB/s eta 0:00:06\n",
      "   ------------ --------------------------- 5.8/18.2 MB 2.4 MB/s eta 0:00:06\n",
      "   ------------ --------------------------- 5.9/18.2 MB 2.4 MB/s eta 0:00:06\n",
      "   ------------ --------------------------- 5.9/18.2 MB 2.4 MB/s eta 0:00:06\n",
      "   ------------- -------------------------- 6.2/18.2 MB 2.4 MB/s eta 0:00:05\n",
      "   -------------- ------------------------- 6.4/18.2 MB 2.5 MB/s eta 0:00:05\n",
      "   -------------- ------------------------- 6.5/18.2 MB 2.5 MB/s eta 0:00:05\n",
      "   -------------- ------------------------- 6.7/18.2 MB 2.5 MB/s eta 0:00:05\n",
      "   -------------- ------------------------- 6.8/18.2 MB 2.5 MB/s eta 0:00:05\n",
      "   --------------- ------------------------ 7.0/18.2 MB 2.5 MB/s eta 0:00:05\n",
      "   --------------- ------------------------ 7.1/18.2 MB 2.5 MB/s eta 0:00:05\n",
      "   --------------- ------------------------ 7.2/18.2 MB 2.5 MB/s eta 0:00:05\n",
      "   ---------------- ----------------------- 7.5/18.2 MB 2.6 MB/s eta 0:00:05\n",
      "   ---------------- ----------------------- 7.6/18.2 MB 2.6 MB/s eta 0:00:05\n",
      "   ----------------- ---------------------- 7.8/18.2 MB 2.6 MB/s eta 0:00:05\n",
      "   ----------------- ---------------------- 7.9/18.2 MB 2.6 MB/s eta 0:00:04\n",
      "   ----------------- ---------------------- 8.1/18.2 MB 2.6 MB/s eta 0:00:04\n",
      "   ------------------ --------------------- 8.3/18.2 MB 2.6 MB/s eta 0:00:04\n",
      "   ------------------ --------------------- 8.4/18.2 MB 2.6 MB/s eta 0:00:04\n",
      "   ------------------ --------------------- 8.5/18.2 MB 2.6 MB/s eta 0:00:04\n",
      "   ------------------- -------------------- 8.7/18.2 MB 2.6 MB/s eta 0:00:04\n",
      "   ------------------- -------------------- 8.8/18.2 MB 2.7 MB/s eta 0:00:04\n",
      "   ------------------- -------------------- 8.9/18.2 MB 2.6 MB/s eta 0:00:04\n",
      "   ------------------- -------------------- 9.0/18.2 MB 2.7 MB/s eta 0:00:04\n",
      "   -------------------- ------------------- 9.2/18.2 MB 2.6 MB/s eta 0:00:04\n",
      "   -------------------- ------------------- 9.3/18.2 MB 2.7 MB/s eta 0:00:04\n",
      "   -------------------- ------------------- 9.5/18.2 MB 2.7 MB/s eta 0:00:04\n",
      "   --------------------- ------------------ 9.6/18.2 MB 2.7 MB/s eta 0:00:04\n",
      "   --------------------- ------------------ 9.8/18.2 MB 2.7 MB/s eta 0:00:04\n",
      "   --------------------- ------------------ 9.9/18.2 MB 2.7 MB/s eta 0:00:04\n",
      "   --------------------- ------------------ 10.0/18.2 MB 2.7 MB/s eta 0:00:04\n",
      "   ---------------------- ----------------- 10.1/18.2 MB 2.7 MB/s eta 0:00:04\n",
      "   ---------------------- ----------------- 10.2/18.2 MB 2.7 MB/s eta 0:00:03\n",
      "   ---------------------- ----------------- 10.4/18.2 MB 2.7 MB/s eta 0:00:03\n",
      "   ----------------------- ---------------- 10.5/18.2 MB 2.7 MB/s eta 0:00:03\n",
      "   ----------------------- ---------------- 10.7/18.2 MB 2.8 MB/s eta 0:00:03\n",
      "   ----------------------- ---------------- 10.8/18.2 MB 2.7 MB/s eta 0:00:03\n",
      "   ------------------------ --------------- 10.9/18.2 MB 2.8 MB/s eta 0:00:03\n",
      "   ------------------------ --------------- 11.1/18.2 MB 2.8 MB/s eta 0:00:03\n",
      "   ------------------------ --------------- 11.2/18.2 MB 2.8 MB/s eta 0:00:03\n",
      "   ------------------------- -------------- 11.4/18.2 MB 2.8 MB/s eta 0:00:03\n",
      "   ------------------------- -------------- 11.5/18.2 MB 2.8 MB/s eta 0:00:03\n",
      "   ------------------------- -------------- 11.7/18.2 MB 2.8 MB/s eta 0:00:03\n",
      "   ------------------------- -------------- 11.8/18.2 MB 2.8 MB/s eta 0:00:03\n",
      "   -------------------------- ------------- 11.9/18.2 MB 2.8 MB/s eta 0:00:03\n",
      "   -------------------------- ------------- 12.1/18.2 MB 2.8 MB/s eta 0:00:03\n",
      "   -------------------------- ------------- 12.2/18.2 MB 2.8 MB/s eta 0:00:03\n",
      "   --------------------------- ------------ 12.3/18.2 MB 2.8 MB/s eta 0:00:03\n",
      "   --------------------------- ------------ 12.5/18.2 MB 2.8 MB/s eta 0:00:03\n",
      "   --------------------------- ------------ 12.7/18.2 MB 2.8 MB/s eta 0:00:02\n",
      "   ---------------------------- ----------- 12.8/18.2 MB 2.9 MB/s eta 0:00:02\n",
      "   ---------------------------- ----------- 12.9/18.2 MB 2.8 MB/s eta 0:00:02\n",
      "   ---------------------------- ----------- 13.0/18.2 MB 2.9 MB/s eta 0:00:02\n",
      "   ----------------------------- ---------- 13.3/18.2 MB 2.9 MB/s eta 0:00:02\n",
      "   ----------------------------- ---------- 13.5/18.2 MB 3.0 MB/s eta 0:00:02\n",
      "   ------------------------------ --------- 13.7/18.2 MB 3.0 MB/s eta 0:00:02\n",
      "   ------------------------------ --------- 13.8/18.2 MB 3.0 MB/s eta 0:00:02\n",
      "   ------------------------------ --------- 14.0/18.2 MB 3.0 MB/s eta 0:00:02\n",
      "   ------------------------------ --------- 14.1/18.2 MB 3.0 MB/s eta 0:00:02\n",
      "   ------------------------------- -------- 14.3/18.2 MB 3.1 MB/s eta 0:00:02\n",
      "   ------------------------------- -------- 14.4/18.2 MB 3.1 MB/s eta 0:00:02\n",
      "   -------------------------------- ------- 14.6/18.2 MB 3.1 MB/s eta 0:00:02\n",
      "   -------------------------------- ------- 14.8/18.2 MB 3.1 MB/s eta 0:00:02\n",
      "   -------------------------------- ------- 14.9/18.2 MB 3.1 MB/s eta 0:00:02\n",
      "   --------------------------------- ------ 15.0/18.2 MB 3.1 MB/s eta 0:00:02\n",
      "   --------------------------------- ------ 15.2/18.2 MB 3.1 MB/s eta 0:00:01\n",
      "   --------------------------------- ------ 15.3/18.2 MB 3.1 MB/s eta 0:00:01\n",
      "   --------------------------------- ------ 15.4/18.2 MB 3.1 MB/s eta 0:00:01\n",
      "   ---------------------------------- ----- 15.6/18.2 MB 3.1 MB/s eta 0:00:01\n",
      "   ---------------------------------- ----- 15.8/18.2 MB 3.1 MB/s eta 0:00:01\n",
      "   ---------------------------------- ----- 15.9/18.2 MB 3.1 MB/s eta 0:00:01\n",
      "   ----------------------------------- ---- 16.0/18.2 MB 3.1 MB/s eta 0:00:01\n",
      "   ----------------------------------- ---- 16.3/18.2 MB 3.2 MB/s eta 0:00:01\n",
      "   ------------------------------------ --- 16.4/18.2 MB 3.2 MB/s eta 0:00:01\n",
      "   ------------------------------------ --- 16.6/18.2 MB 3.2 MB/s eta 0:00:01\n",
      "   ------------------------------------ --- 16.7/18.2 MB 3.2 MB/s eta 0:00:01\n",
      "   ------------------------------------- -- 16.9/18.2 MB 3.2 MB/s eta 0:00:01\n",
      "   ------------------------------------- -- 17.1/18.2 MB 3.2 MB/s eta 0:00:01\n",
      "   ------------------------------------- -- 17.2/18.2 MB 3.2 MB/s eta 0:00:01\n",
      "   -------------------------------------- - 17.3/18.2 MB 3.2 MB/s eta 0:00:01\n",
      "   -------------------------------------- - 17.5/18.2 MB 3.2 MB/s eta 0:00:01\n",
      "   -------------------------------------- - 17.7/18.2 MB 3.2 MB/s eta 0:00:01\n",
      "   ---------------------------------------  17.8/18.2 MB 3.2 MB/s eta 0:00:01\n",
      "   ---------------------------------------  18.0/18.2 MB 3.2 MB/s eta 0:00:01\n",
      "   ---------------------------------------  18.1/18.2 MB 3.2 MB/s eta 0:00:01\n",
      "   ---------------------------------------  18.2/18.2 MB 3.2 MB/s eta 0:00:01\n",
      "   ---------------------------------------- 18.2/18.2 MB 3.1 MB/s eta 0:00:00\n",
      "Downloading chroma_hnswlib-0.7.6-cp311-cp311-win_amd64.whl (151 kB)\n",
      "   ---------------------------------------- 0.0/151.9 kB ? eta -:--:--\n",
      "   ---------------------------------------- 151.9/151.9 kB 8.9 MB/s eta 0:00:00\n",
      "Downloading fastapi-0.115.9-py3-none-any.whl (94 kB)\n",
      "   ---------------------------------------- 0.0/94.9 kB ? eta -:--:--\n",
      "   ---------------------------------------- 0.0/94.9 kB ? eta -:--:--\n",
      "   ---------------------------------------- 0.0/94.9 kB ? eta -:--:--\n",
      "   ---- ----------------------------------- 10.2/94.9 kB ? eta -:--:--\n",
      "   -------------------------------------- - 92.2/94.9 kB 1.1 MB/s eta 0:00:01\n",
      "   ---------------------------------------- 94.9/94.9 kB 769.8 kB/s eta 0:00:00\n",
      "Downloading bcrypt-4.3.0-cp39-abi3-win_amd64.whl (152 kB)\n",
      "   ---------------------------------------- 0.0/152.8 kB ? eta -:--:--\n",
      "   ------------------------------------- -- 143.4/152.8 kB 4.2 MB/s eta 0:00:01\n",
      "   ------------------------------------- -- 143.4/152.8 kB 4.2 MB/s eta 0:00:01\n",
      "   ---------------------------------------- 152.8/152.8 kB 1.8 MB/s eta 0:00:00\n",
      "Downloading build-1.2.2.post1-py3-none-any.whl (22 kB)\n",
      "Downloading httpx-0.28.1-py3-none-any.whl (73 kB)\n",
      "   ---------------------------------------- 0.0/73.5 kB ? eta -:--:--\n",
      "   ---------------------------------------  71.7/73.5 kB 3.8 MB/s eta 0:00:01\n",
      "   ---------------------------------------- 73.5/73.5 kB 1.0 MB/s eta 0:00:00\n",
      "Downloading kubernetes-32.0.1-py2.py3-none-any.whl (2.0 MB)\n",
      "   ---------------------------------------- 0.0/2.0 MB ? eta -:--:--\n",
      "   -- ------------------------------------- 0.1/2.0 MB 4.3 MB/s eta 0:00:01\n",
      "   ------ --------------------------------- 0.3/2.0 MB 4.2 MB/s eta 0:00:01\n",
      "   -------- ------------------------------- 0.4/2.0 MB 4.6 MB/s eta 0:00:01\n",
      "   ------------- -------------------------- 0.7/2.0 MB 3.8 MB/s eta 0:00:01\n",
      "   ---------------- ----------------------- 0.8/2.0 MB 3.9 MB/s eta 0:00:01\n",
      "   ------------------- -------------------- 1.0/2.0 MB 3.9 MB/s eta 0:00:01\n",
      "   --------------------- ------------------ 1.1/2.0 MB 3.4 MB/s eta 0:00:01\n",
      "   ----------------------- ---------------- 1.2/2.0 MB 3.2 MB/s eta 0:00:01\n",
      "   -------------------------- ------------- 1.3/2.0 MB 3.4 MB/s eta 0:00:01\n",
      "   ---------------------------- ----------- 1.4/2.0 MB 3.2 MB/s eta 0:00:01\n",
      "   ------------------------------- -------- 1.6/2.0 MB 3.2 MB/s eta 0:00:01\n",
      "   ---------------------------------- ----- 1.7/2.0 MB 3.2 MB/s eta 0:00:01\n",
      "   ------------------------------------- -- 1.9/2.0 MB 3.2 MB/s eta 0:00:01\n",
      "   ---------------------------------------  2.0/2.0 MB 3.2 MB/s eta 0:00:01\n",
      "   ---------------------------------------- 2.0/2.0 MB 3.0 MB/s eta 0:00:00\n",
      "Downloading mmh3-5.1.0-cp311-cp311-win_amd64.whl (41 kB)\n",
      "   ---------------------------------------- 0.0/41.5 kB ? eta -:--:--\n",
      "   ---------------------------------------- 41.5/41.5 kB 2.0 MB/s eta 0:00:00\n",
      "Downloading onnxruntime-1.21.0-cp311-cp311-win_amd64.whl (11.8 MB)\n",
      "   ---------------------------------------- 0.0/11.8 MB ? eta -:--:--\n",
      "    --------------------------------------- 0.2/11.8 MB 9.6 MB/s eta 0:00:02\n",
      "   - -------------------------------------- 0.3/11.8 MB 3.8 MB/s eta 0:00:04\n",
      "   - -------------------------------------- 0.5/11.8 MB 3.5 MB/s eta 0:00:04\n",
      "   - -------------------------------------- 0.6/11.8 MB 3.3 MB/s eta 0:00:04\n",
      "   -- ------------------------------------- 0.7/11.8 MB 3.1 MB/s eta 0:00:04\n",
      "   -- ------------------------------------- 0.9/11.8 MB 3.2 MB/s eta 0:00:04\n",
      "   --- ------------------------------------ 1.0/11.8 MB 3.1 MB/s eta 0:00:04\n",
      "   --- ------------------------------------ 1.0/11.8 MB 2.8 MB/s eta 0:00:04\n",
      "   ---- ----------------------------------- 1.2/11.8 MB 3.2 MB/s eta 0:00:04\n",
      "   ----- ---------------------------------- 1.5/11.8 MB 3.3 MB/s eta 0:00:04\n",
      "   ----- ---------------------------------- 1.6/11.8 MB 3.2 MB/s eta 0:00:04\n",
      "   ------ --------------------------------- 1.8/11.8 MB 3.2 MB/s eta 0:00:04\n",
      "   ------ --------------------------------- 1.9/11.8 MB 3.3 MB/s eta 0:00:04\n",
      "   ------- -------------------------------- 2.1/11.8 MB 3.3 MB/s eta 0:00:03\n",
      "   ------- -------------------------------- 2.2/11.8 MB 3.2 MB/s eta 0:00:03\n",
      "   -------- ------------------------------- 2.4/11.8 MB 3.3 MB/s eta 0:00:03\n",
      "   -------- ------------------------------- 2.4/11.8 MB 3.3 MB/s eta 0:00:03\n",
      "   -------- ------------------------------- 2.5/11.8 MB 3.0 MB/s eta 0:00:04\n",
      "   --------- ------------------------------ 2.7/11.8 MB 3.0 MB/s eta 0:00:04\n",
      "   ---------- ----------------------------- 3.0/11.8 MB 3.3 MB/s eta 0:00:03\n",
      "   ---------- ----------------------------- 3.1/11.8 MB 3.3 MB/s eta 0:00:03\n",
      "   ----------- ---------------------------- 3.3/11.8 MB 3.3 MB/s eta 0:00:03\n",
      "   ----------- ---------------------------- 3.5/11.8 MB 3.3 MB/s eta 0:00:03\n",
      "   ------------ --------------------------- 3.6/11.8 MB 3.3 MB/s eta 0:00:03\n",
      "   ------------ --------------------------- 3.8/11.8 MB 3.3 MB/s eta 0:00:03\n",
      "   ------------- -------------------------- 4.0/11.8 MB 3.3 MB/s eta 0:00:03\n",
      "   -------------- ------------------------- 4.1/11.8 MB 3.3 MB/s eta 0:00:03\n",
      "   -------------- ------------------------- 4.3/11.8 MB 3.3 MB/s eta 0:00:03\n",
      "   --------------- ------------------------ 4.5/11.8 MB 3.4 MB/s eta 0:00:03\n",
      "   --------------- ------------------------ 4.6/11.8 MB 3.4 MB/s eta 0:00:03\n",
      "   ---------------- ----------------------- 4.8/11.8 MB 3.4 MB/s eta 0:00:03\n",
      "   ---------------- ----------------------- 4.9/11.8 MB 3.4 MB/s eta 0:00:03\n",
      "   ----------------- ---------------------- 5.1/11.8 MB 3.4 MB/s eta 0:00:02\n",
      "   ------------------ --------------------- 5.3/11.8 MB 3.4 MB/s eta 0:00:02\n",
      "   ------------------ --------------------- 5.5/11.8 MB 3.4 MB/s eta 0:00:02\n",
      "   ------------------- -------------------- 5.6/11.8 MB 3.4 MB/s eta 0:00:02\n",
      "   ------------------- -------------------- 5.7/11.8 MB 3.4 MB/s eta 0:00:02\n",
      "   ------------------- -------------------- 5.8/11.8 MB 3.3 MB/s eta 0:00:02\n",
      "   -------------------- ------------------- 5.9/11.8 MB 3.3 MB/s eta 0:00:02\n",
      "   -------------------- ------------------- 6.1/11.8 MB 3.3 MB/s eta 0:00:02\n",
      "   --------------------- ------------------ 6.3/11.8 MB 3.4 MB/s eta 0:00:02\n",
      "   ---------------------- ----------------- 6.5/11.8 MB 3.4 MB/s eta 0:00:02\n",
      "   ---------------------- ----------------- 6.7/11.8 MB 3.4 MB/s eta 0:00:02\n",
      "   ----------------------- ---------------- 6.8/11.8 MB 3.4 MB/s eta 0:00:02\n",
      "   ----------------------- ---------------- 6.9/11.8 MB 3.3 MB/s eta 0:00:02\n",
      "   ------------------------ --------------- 7.1/11.8 MB 3.3 MB/s eta 0:00:02\n",
      "   ------------------------ --------------- 7.2/11.8 MB 3.3 MB/s eta 0:00:02\n",
      "   ------------------------ --------------- 7.3/11.8 MB 3.3 MB/s eta 0:00:02\n",
      "   ------------------------- -------------- 7.4/11.8 MB 3.3 MB/s eta 0:00:02\n",
      "   ------------------------- -------------- 7.6/11.8 MB 3.3 MB/s eta 0:00:02\n",
      "   -------------------------- ------------- 7.7/11.8 MB 3.3 MB/s eta 0:00:02\n",
      "   -------------------------- ------------- 7.8/11.8 MB 3.3 MB/s eta 0:00:02\n",
      "   -------------------------- ------------- 7.8/11.8 MB 3.2 MB/s eta 0:00:02\n",
      "   --------------------------- ------------ 8.0/11.8 MB 3.2 MB/s eta 0:00:02\n",
      "   --------------------------- ------------ 8.2/11.8 MB 3.2 MB/s eta 0:00:02\n",
      "   ---------------------------- ----------- 8.4/11.8 MB 3.2 MB/s eta 0:00:02\n",
      "   ---------------------------- ----------- 8.5/11.8 MB 3.2 MB/s eta 0:00:02\n",
      "   ----------------------------- ---------- 8.6/11.8 MB 3.2 MB/s eta 0:00:01\n",
      "   ----------------------------- ---------- 8.8/11.8 MB 3.2 MB/s eta 0:00:01\n",
      "   ------------------------------ --------- 8.9/11.8 MB 3.2 MB/s eta 0:00:01\n",
      "   ------------------------------ --------- 9.1/11.8 MB 3.2 MB/s eta 0:00:01\n",
      "   ------------------------------- -------- 9.2/11.8 MB 3.2 MB/s eta 0:00:01\n",
      "   ------------------------------- -------- 9.3/11.8 MB 3.2 MB/s eta 0:00:01\n",
      "   -------------------------------- ------- 9.4/11.8 MB 3.2 MB/s eta 0:00:01\n",
      "   -------------------------------- ------- 9.6/11.8 MB 3.2 MB/s eta 0:00:01\n",
      "   -------------------------------- ------- 9.7/11.8 MB 3.2 MB/s eta 0:00:01\n",
      "   --------------------------------- ------ 9.8/11.8 MB 3.2 MB/s eta 0:00:01\n",
      "   --------------------------------- ------ 9.9/11.8 MB 3.2 MB/s eta 0:00:01\n",
      "   ---------------------------------- ----- 10.0/11.8 MB 3.2 MB/s eta 0:00:01\n",
      "   ---------------------------------- ----- 10.1/11.8 MB 3.1 MB/s eta 0:00:01\n",
      "   ---------------------------------- ----- 10.2/11.8 MB 3.1 MB/s eta 0:00:01\n",
      "   ---------------------------------- ----- 10.3/11.8 MB 3.1 MB/s eta 0:00:01\n",
      "   ----------------------------------- ---- 10.4/11.8 MB 3.1 MB/s eta 0:00:01\n",
      "   ----------------------------------- ---- 10.5/11.8 MB 3.1 MB/s eta 0:00:01\n",
      "   ----------------------------------- ---- 10.5/11.8 MB 3.0 MB/s eta 0:00:01\n",
      "   ------------------------------------ --- 10.6/11.8 MB 3.0 MB/s eta 0:00:01\n",
      "   ------------------------------------ --- 10.7/11.8 MB 3.0 MB/s eta 0:00:01\n",
      "   ------------------------------------ --- 10.8/11.8 MB 3.0 MB/s eta 0:00:01\n",
      "   ------------------------------------- -- 11.0/11.8 MB 3.0 MB/s eta 0:00:01\n",
      "   ------------------------------------- -- 11.0/11.8 MB 3.0 MB/s eta 0:00:01\n",
      "   -------------------------------------- - 11.2/11.8 MB 3.0 MB/s eta 0:00:01\n",
      "   -------------------------------------- - 11.3/11.8 MB 3.0 MB/s eta 0:00:01\n",
      "   ---------------------------------------  11.5/11.8 MB 3.0 MB/s eta 0:00:01\n",
      "   ---------------------------------------  11.6/11.8 MB 3.0 MB/s eta 0:00:01\n",
      "   ---------------------------------------  11.7/11.8 MB 3.0 MB/s eta 0:00:01\n",
      "   ---------------------------------------  11.8/11.8 MB 2.9 MB/s eta 0:00:01\n",
      "   ---------------------------------------- 11.8/11.8 MB 2.9 MB/s eta 0:00:00\n",
      "Downloading opentelemetry_api-1.32.1-py3-none-any.whl (65 kB)\n",
      "   ---------------------------------------- 0.0/65.3 kB ? eta -:--:--\n",
      "   ---------------------------------------- 65.3/65.3 kB 3.7 MB/s eta 0:00:00\n",
      "Downloading opentelemetry_exporter_otlp_proto_grpc-1.32.1-py3-none-any.whl (18 kB)\n",
      "Downloading opentelemetry_exporter_otlp_proto_common-1.32.1-py3-none-any.whl (18 kB)\n",
      "Downloading opentelemetry_proto-1.32.1-py3-none-any.whl (55 kB)\n",
      "   ---------------------------------------- 0.0/55.9 kB ? eta -:--:--\n",
      "   ---------------------------------------- 55.9/55.9 kB 2.9 MB/s eta 0:00:00\n",
      "Downloading opentelemetry_instrumentation_fastapi-0.53b1-py3-none-any.whl (12 kB)\n",
      "Downloading opentelemetry_instrumentation-0.53b1-py3-none-any.whl (30 kB)\n",
      "Downloading opentelemetry_instrumentation_asgi-0.53b1-py3-none-any.whl (16 kB)\n",
      "Downloading opentelemetry_semantic_conventions-0.53b1-py3-none-any.whl (188 kB)\n",
      "   ---------------------------------------- 0.0/188.4 kB ? eta -:--:--\n",
      "   ------------------- -------------------- 92.2/188.4 kB 2.6 MB/s eta 0:00:01\n",
      "   ---------------------------------------  184.3/188.4 kB 2.8 MB/s eta 0:00:01\n",
      "   ---------------------------------------- 188.4/188.4 kB 1.6 MB/s eta 0:00:00\n",
      "Downloading opentelemetry_util_http-0.53b1-py3-none-any.whl (7.3 kB)\n",
      "Downloading opentelemetry_sdk-1.32.1-py3-none-any.whl (118 kB)\n",
      "   ---------------------------------------- 0.0/119.0 kB ? eta -:--:--\n",
      "   ------------------------------------- -- 112.6/119.0 kB 6.8 MB/s eta 0:00:01\n",
      "   ---------------------------------------- 119.0/119.0 kB 1.8 MB/s eta 0:00:00\n",
      "Downloading posthog-3.25.0-py2.py3-none-any.whl (89 kB)\n",
      "   ---------------------------------------- 0.0/89.1 kB ? eta -:--:--\n",
      "   ------------------------------------ --- 81.9/89.1 kB 2.2 MB/s eta 0:00:01\n",
      "   ---------------------------------------- 89.1/89.1 kB 998.4 kB/s eta 0:00:00\n",
      "Downloading tenacity-9.1.2-py3-none-any.whl (28 kB)\n",
      "Downloading uvicorn-0.34.1-py3-none-any.whl (62 kB)\n",
      "   ---------------------------------------- 0.0/62.4 kB ? eta -:--:--\n",
      "   ---------------------------------------- 62.4/62.4 kB 3.3 MB/s eta 0:00:00\n",
      "Downloading importlib_resources-6.5.2-py3-none-any.whl (37 kB)\n",
      "Downloading backoff-2.2.1-py3-none-any.whl (15 kB)\n",
      "Downloading Deprecated-1.2.18-py2.py3-none-any.whl (10.0 kB)\n",
      "Downloading durationpy-0.9-py3-none-any.whl (3.5 kB)\n",
      "Downloading google_auth-2.39.0-py2.py3-none-any.whl (212 kB)\n",
      "   ---------------------------------------- 0.0/212.3 kB ? eta -:--:--\n",
      "   -------------------------------------- - 204.8/212.3 kB 6.3 MB/s eta 0:00:01\n",
      "   ---------------------------------------- 212.3/212.3 kB 3.2 MB/s eta 0:00:00\n",
      "Downloading googleapis_common_protos-1.70.0-py3-none-any.whl (294 kB)\n",
      "   ---------------------------------------- 0.0/294.5 kB ? eta -:--:--\n",
      "   -------- ------------------------------- 61.4/294.5 kB ? eta -:--:--\n",
      "   ----------------------- ---------------- 174.1/294.5 kB 3.5 MB/s eta 0:00:01\n",
      "   -------------------------------------- - 286.7/294.5 kB 4.4 MB/s eta 0:00:01\n",
      "   ---------------------------------------- 294.5/294.5 kB 2.6 MB/s eta 0:00:00\n",
      "Downloading httptools-0.6.4-cp311-cp311-win_amd64.whl (88 kB)\n",
      "   ---------------------------------------- 0.0/88.6 kB ? eta -:--:--\n",
      "   ------------------------------------ --- 81.9/88.6 kB 4.5 MB/s eta 0:00:01\n",
      "   ---------------------------------------- 88.6/88.6 kB 1.2 MB/s eta 0:00:00\n",
      "Downloading monotonic-1.6-py2.py3-none-any.whl (8.2 kB)\n",
      "Downloading oauthlib-3.2.2-py3-none-any.whl (151 kB)\n",
      "   ---------------------------------------- 0.0/151.7 kB ? eta -:--:--\n",
      "   ---------------- ----------------------- 61.4/151.7 kB 1.6 MB/s eta 0:00:01\n",
      "   ------------------------------------- -- 143.4/151.7 kB 2.8 MB/s eta 0:00:01\n",
      "   ---------------------------------------- 151.7/151.7 kB 1.5 MB/s eta 0:00:00\n",
      "Downloading protobuf-5.29.4-cp310-abi3-win_amd64.whl (434 kB)\n",
      "   ---------------------------------------- 0.0/434.5 kB ? eta -:--:--\n",
      "   ----------- ---------------------------- 122.9/434.5 kB ? eta -:--:--\n",
      "   ------------------------- -------------- 276.5/434.5 kB 4.2 MB/s eta 0:00:01\n",
      "   ---------------------------------------  430.1/434.5 kB 3.8 MB/s eta 0:00:01\n",
      "   ---------------------------------------- 434.5/434.5 kB 2.7 MB/s eta 0:00:00\n",
      "Downloading starlette-0.45.3-py3-none-any.whl (71 kB)\n",
      "   ---------------------------------------- 0.0/71.5 kB ? eta -:--:--\n",
      "   ---------------------------------------- 71.5/71.5 kB 2.0 MB/s eta 0:00:00\n",
      "Downloading watchfiles-1.0.5-cp311-cp311-win_amd64.whl (291 kB)\n",
      "   ---------------------------------------- 0.0/291.6 kB ? eta -:--:--\n",
      "   ------------------- -------------------- 143.4/291.6 kB 8.3 MB/s eta 0:00:01\n",
      "   -------------------------------- ------- 235.5/291.6 kB 3.6 MB/s eta 0:00:01\n",
      "   ---------------------------------------  286.7/291.6 kB 3.5 MB/s eta 0:00:01\n",
      "   ---------------------------------------- 291.6/291.6 kB 2.3 MB/s eta 0:00:00\n",
      "Downloading websockets-15.0.1-cp311-cp311-win_amd64.whl (176 kB)\n",
      "   ---------------------------------------- 0.0/176.8 kB ? eta -:--:--\n",
      "   -------------------------------- ------- 143.4/176.8 kB 2.8 MB/s eta 0:00:01\n",
      "   ---------------------------------------- 176.8/176.8 kB 1.8 MB/s eta 0:00:00\n",
      "Downloading coloredlogs-15.0.1-py2.py3-none-any.whl (46 kB)\n",
      "   ---------------------------------------- 0.0/46.0 kB ? eta -:--:--\n",
      "   ---------------------------------------- 46.0/46.0 kB ? eta 0:00:00\n",
      "Downloading pyproject_hooks-1.2.0-py3-none-any.whl (10 kB)\n",
      "Downloading requests_oauthlib-2.0.0-py2.py3-none-any.whl (24 kB)\n",
      "Downloading asgiref-3.8.1-py3-none-any.whl (23 kB)\n",
      "Downloading humanfriendly-10.0-py2.py3-none-any.whl (86 kB)\n",
      "   ---------------------------------------- 0.0/86.8 kB ? eta -:--:--\n",
      "   --------------------------------- ------ 71.7/86.8 kB 2.0 MB/s eta 0:00:01\n",
      "   ---------------------------------------- 86.8/86.8 kB 981.5 kB/s eta 0:00:00\n",
      "Downloading rsa-4.9.1-py3-none-any.whl (34 kB)\n",
      "Downloading pyreadline3-3.5.4-py3-none-any.whl (83 kB)\n",
      "   ---------------------------------------- 0.0/83.2 kB ? eta -:--:--\n",
      "   ---------------------------------------  81.9/83.2 kB 2.3 MB/s eta 0:00:01\n",
      "   ---------------------------------------- 83.2/83.2 kB 935.1 kB/s eta 0:00:00\n",
      "Building wheels for collected packages: pypika\n",
      "  Building wheel for pypika (pyproject.toml): started\n",
      "  Building wheel for pypika (pyproject.toml): finished with status 'done'\n",
      "  Created wheel for pypika: filename=pypika-0.48.9-py2.py3-none-any.whl size=53914 sha256=76e4bd740722a80893bcf958d8405227731f6dbf5b073df83f49463db3cad10f\n",
      "  Stored in directory: c:\\users\\abrar\\appdata\\local\\pip\\cache\\wheels\\a3\\01\\bd\\4c40ceb9d5354160cb186dcc153360f4ab7eb23e2b24daf96d\n",
      "Successfully built pypika\n",
      "Installing collected packages: pypika, monotonic, durationpy, websockets, tenacity, rsa, pyreadline3, pyproject_hooks, protobuf, opentelemetry-util-http, oauthlib, mmh3, importlib-resources, httptools, deprecated, chroma-hnswlib, bcrypt, backoff, asgiref, watchfiles, uvicorn, starlette, requests-oauthlib, posthog, opentelemetry-proto, opentelemetry-api, humanfriendly, httpx, googleapis-common-protos, google-auth, build, opentelemetry-semantic-conventions, opentelemetry-exporter-otlp-proto-common, kubernetes, fastapi, coloredlogs, opentelemetry-sdk, opentelemetry-instrumentation, onnxruntime, opentelemetry-instrumentation-asgi, opentelemetry-exporter-otlp-proto-grpc, opentelemetry-instrumentation-fastapi, chromadb\n",
      "  Attempting uninstall: tenacity\n",
      "    Found existing installation: tenacity 8.2.2\n",
      "    Uninstalling tenacity-8.2.2:\n",
      "      Successfully uninstalled tenacity-8.2.2\n",
      "  Attempting uninstall: protobuf\n",
      "    Found existing installation: protobuf 3.20.3\n",
      "    Uninstalling protobuf-3.20.3:\n",
      "      Successfully uninstalled protobuf-3.20.3\n",
      "  Attempting uninstall: bcrypt\n",
      "    Found existing installation: bcrypt 3.2.0\n",
      "    Uninstalling bcrypt-3.2.0:\n",
      "      Successfully uninstalled bcrypt-3.2.0\n",
      "  Attempting uninstall: httpx\n",
      "    Found existing installation: httpx 0.26.0\n",
      "    Uninstalling httpx-0.26.0:\n",
      "      Successfully uninstalled httpx-0.26.0\n",
      "Successfully installed asgiref-3.8.1 backoff-2.2.1 bcrypt-4.3.0 build-1.2.2.post1 chroma-hnswlib-0.7.6 chromadb-1.0.5 coloredlogs-15.0.1 deprecated-1.2.18 durationpy-0.9 fastapi-0.115.9 google-auth-2.39.0 googleapis-common-protos-1.70.0 httptools-0.6.4 httpx-0.28.1 humanfriendly-10.0 importlib-resources-6.5.2 kubernetes-32.0.1 mmh3-5.1.0 monotonic-1.6 oauthlib-3.2.2 onnxruntime-1.21.0 opentelemetry-api-1.32.1 opentelemetry-exporter-otlp-proto-common-1.32.1 opentelemetry-exporter-otlp-proto-grpc-1.32.1 opentelemetry-instrumentation-0.53b1 opentelemetry-instrumentation-asgi-0.53b1 opentelemetry-instrumentation-fastapi-0.53b1 opentelemetry-proto-1.32.1 opentelemetry-sdk-1.32.1 opentelemetry-semantic-conventions-0.53b1 opentelemetry-util-http-0.53b1 posthog-3.25.0 protobuf-5.29.4 pypika-0.48.9 pyproject_hooks-1.2.0 pyreadline3-3.5.4 requests-oauthlib-2.0.0 rsa-4.9.1 starlette-0.45.3 tenacity-9.1.2 uvicorn-0.34.1 watchfiles-1.0.5 websockets-15.0.1\n"
     ]
    },
    {
     "name": "stderr",
     "output_type": "stream",
     "text": [
      "ERROR: pip's dependency resolver does not currently take into account all the packages that are installed. This behaviour is the source of the following dependency conflicts.\n",
      "spyder 5.4.3 requires jedi<0.19.0,>=0.17.2, but you have jedi 0.19.2 which is incompatible.\n",
      "tensorflow-intel 2.18.0 requires ml-dtypes<0.5.0,>=0.4.0, but you have ml-dtypes 0.5.1 which is incompatible.\n",
      "tensorflow-intel 2.18.0 requires tensorboard<2.19,>=2.18, but you have tensorboard 2.19.0 which is incompatible.\n"
     ]
    }
   ],
   "source": [
    "! pip install chromadb langchain langchain_community langchain_openai"
   ]
  },
  {
   "cell_type": "code",
   "execution_count": 2,
   "id": "2868cff1-a3ef-426f-b8d7-7fe89047a5b7",
   "metadata": {
    "tags": []
   },
   "outputs": [],
   "source": [
    "from langchain.chains import RetrievalQA\n",
    "from langchain_community.vectorstores import Chroma\n",
    "from langchain_openai import OpenAI, OpenAIEmbeddings\n",
    "from langchain_text_splitters import CharacterTextSplitter\n",
    "from langchain_community.document_loaders import TextLoader"
   ]
  },
  {
   "cell_type": "code",
   "execution_count": 3,
   "id": "aeff3a2d-b0cc-429f-a34c-4381d71f1a5f",
   "metadata": {
    "tags": []
   },
   "outputs": [],
   "source": [
    "import os\n",
    "from dotenv import load_dotenv, find_dotenv\n",
    "_ = load_dotenv(find_dotenv())\n",
    "\n",
    "OPENAI_API_KEY  = os.getenv('OPENAI_API_KEY')"
   ]
  },
  {
   "cell_type": "code",
   "execution_count": null,
   "id": "f16d010b",
   "metadata": {},
   "outputs": [],
   "source": [
    "# If you're using colab, run this\n",
    "#os.environ['OPENAI_API_KEY'] = \"YOUR_OPENAI_API_KEY\""
   ]
  },
  {
   "cell_type": "code",
   "execution_count": 4,
   "id": "14331eec-fd46-42e0-b6e7-adaf21824ef7",
   "metadata": {
    "tags": []
   },
   "outputs": [],
   "source": [
    "llm = OpenAI(temperature=0)"
   ]
  },
  {
   "cell_type": "code",
   "execution_count": 5,
   "id": "0b7b772b",
   "metadata": {
    "tags": []
   },
   "outputs": [],
   "source": [
    "from pathlib import Path\n",
    "\n",
    "relevant_parts = []\n",
    "for p in Path(\".\").absolute().parts:\n",
    "    relevant_parts.append(p)\n",
    "    if relevant_parts[-3:] == [\"langchain\", \"docs\", \"modules\"]:\n",
    "        break\n",
    "doc_path = str(Path(*relevant_parts) / \"state_of_the_union.txt\")"
   ]
  },
  {
   "cell_type": "code",
   "execution_count": 7,
   "id": "f2675861",
   "metadata": {
    "tags": []
   },
   "outputs": [],
   "source": [
    "loader = TextLoader(doc_path)\n",
    "documents = loader.load()\n",
    "text_splitter = CharacterTextSplitter(chunk_size=1000, chunk_overlap=0)\n",
    "texts = text_splitter.split_documents(documents)\n",
    "\n",
    "embeddings = OpenAIEmbeddings()\n",
    "docsearch = Chroma.from_documents(texts, embeddings, collection_name=\"state-of-union\")"
   ]
  },
  {
   "cell_type": "code",
   "execution_count": 8,
   "id": "bc5403d4",
   "metadata": {
    "tags": []
   },
   "outputs": [],
   "source": [
    "state_of_union = RetrievalQA.from_chain_type(\n",
    "    llm=llm, chain_type=\"stuff\", retriever=docsearch.as_retriever()\n",
    ")"
   ]
  },
  {
   "cell_type": "code",
   "execution_count": 9,
   "id": "1431cded",
   "metadata": {
    "tags": []
   },
   "outputs": [
    {
     "name": "stderr",
     "output_type": "stream",
     "text": [
      "USER_AGENT environment variable not set, consider setting it to identify your requests.\n"
     ]
    }
   ],
   "source": [
    "from langchain_community.document_loaders import WebBaseLoader"
   ]
  },
  {
   "cell_type": "code",
   "execution_count": 10,
   "id": "915d3ff3",
   "metadata": {
    "tags": []
   },
   "outputs": [],
   "source": [
    "loader = WebBaseLoader(\"https://beta.ruff.rs/docs/faq/\")"
   ]
  },
  {
   "cell_type": "code",
   "execution_count": 11,
   "id": "96a2edf8",
   "metadata": {
    "tags": []
   },
   "outputs": [
    {
     "name": "stderr",
     "output_type": "stream",
     "text": [
      "Created a chunk of size 2122, which is longer than the specified 1000\n",
      "Created a chunk of size 3187, which is longer than the specified 1000\n",
      "Created a chunk of size 1017, which is longer than the specified 1000\n",
      "Created a chunk of size 1256, which is longer than the specified 1000\n",
      "Created a chunk of size 2321, which is longer than the specified 1000\n"
     ]
    }
   ],
   "source": [
    "docs = loader.load()\n",
    "ruff_texts = text_splitter.split_documents(docs)\n",
    "ruff_db = Chroma.from_documents(ruff_texts, embeddings, collection_name=\"ruff\")\n",
    "ruff = RetrievalQA.from_chain_type(\n",
    "    llm=llm, chain_type=\"stuff\", retriever=ruff_db.as_retriever()\n",
    ")"
   ]
  },
  {
   "cell_type": "markdown",
   "id": "c0a6c031",
   "metadata": {},
   "source": [
    "## Create the Agent"
   ]
  },
  {
   "cell_type": "code",
   "execution_count": 12,
   "id": "eb142786",
   "metadata": {
    "tags": []
   },
   "outputs": [],
   "source": [
    "# Import things that are needed generically\n",
    "from langchain.agents import AgentType, Tool, initialize_agent\n",
    "from langchain_openai import OpenAI"
   ]
  },
  {
   "cell_type": "code",
   "execution_count": 13,
   "id": "850bc4e9",
   "metadata": {
    "tags": []
   },
   "outputs": [],
   "source": [
    "tools = [\n",
    "    Tool(\n",
    "        name=\"State of Union QA System\",\n",
    "        func=state_of_union.run,\n",
    "        description=\"useful for when you need to answer questions about the most recent state of the union address. Input should be a fully formed question.\",\n",
    "    ),\n",
    "    Tool(\n",
    "        name=\"Ruff QA System\",\n",
    "        func=ruff.run,\n",
    "        description=\"useful for when you need to answer questions about ruff (a python linter). Input should be a fully formed question.\",\n",
    "    ),\n",
    "]"
   ]
  },
  {
   "cell_type": "code",
   "execution_count": 14,
   "id": "fc47f230",
   "metadata": {
    "tags": []
   },
   "outputs": [
    {
     "name": "stderr",
     "output_type": "stream",
     "text": [
      "C:\\Users\\abrar\\AppData\\Local\\Temp\\ipykernel_7520\\1834837320.py:3: LangChainDeprecationWarning: LangChain agents will continue to be supported, but it is recommended for new use cases to be built with LangGraph. LangGraph offers a more flexible and full-featured framework for building agents, including support for tool-calling, persistence of state, and human-in-the-loop workflows. For details, refer to the `LangGraph documentation <https://langchain-ai.github.io/langgraph/>`_ as well as guides for `Migrating from AgentExecutor <https://python.langchain.com/docs/how_to/migrate_agent/>`_ and LangGraph's `Pre-built ReAct agent <https://langchain-ai.github.io/langgraph/how-tos/create-react-agent/>`_.\n",
      "  agent = initialize_agent(\n"
     ]
    }
   ],
   "source": [
    "# Construct the agent. We will use the default agent type here.\n",
    "# See documentation for a full list of options.\n",
    "agent = initialize_agent(\n",
    "    tools, llm, agent=AgentType.ZERO_SHOT_REACT_DESCRIPTION, verbose=True\n",
    ")"
   ]
  },
  {
   "cell_type": "code",
   "execution_count": 15,
   "id": "10ca2db8",
   "metadata": {
    "tags": []
   },
   "outputs": [
    {
     "name": "stdout",
     "output_type": "stream",
     "text": [
      "\n",
      "\n",
      "\u001b[1m> Entering new AgentExecutor chain...\u001b[0m\n",
      "\u001b[32;1m\u001b[1;3m I should use the State of Union QA System to answer this question.\n",
      "Action: State of Union QA System\n",
      "Action Input: \"What did Biden say about Ketanji Brown Jackson in the state of the union address?\"\u001b[0m\n",
      "Observation: \u001b[36;1m\u001b[1;3m Biden said that he nominated Ketanji Brown Jackson for the United States Supreme Court and praised her as one of the nation's top legal minds who will continue Justice Breyer's legacy of excellence.\u001b[0m\n",
      "Thought:\u001b[32;1m\u001b[1;3m I now know the final answer.\n",
      "Final Answer: Biden nominated Ketanji Brown Jackson for the United States Supreme Court and praised her as one of the nation's top legal minds who will continue Justice Breyer's legacy of excellence.\u001b[0m\n",
      "\n",
      "\u001b[1m> Finished chain.\u001b[0m\n"
     ]
    },
    {
     "data": {
      "text/plain": [
       "{'input': 'What did biden say about ketanji brown jackson in the state of the union address?',\n",
       " 'output': \"Biden nominated Ketanji Brown Jackson for the United States Supreme Court and praised her as one of the nation's top legal minds who will continue Justice Breyer's legacy of excellence.\"}"
      ]
     },
     "execution_count": 15,
     "metadata": {},
     "output_type": "execute_result"
    }
   ],
   "source": [
    "agent.invoke(\n",
    "    \"What did biden say about ketanji brown jackson in the state of the union address?\"\n",
    ")"
   ]
  },
  {
   "cell_type": "code",
   "execution_count": 16,
   "id": "4e91b811",
   "metadata": {
    "tags": []
   },
   "outputs": [
    {
     "name": "stdout",
     "output_type": "stream",
     "text": [
      "\n",
      "\n",
      "\u001b[1m> Entering new AgentExecutor chain...\u001b[0m\n",
      "\u001b[32;1m\u001b[1;3m Ruff and flake8 are both python linters, so they have similar functions. However, there may be specific reasons why one is preferred over the other.\n",
      "Action: Ruff QA System\n",
      "Action Input: \"Why use ruff over flake8?\"\u001b[0m\n",
      "Observation: \u001b[33;1m\u001b[1;3m\n",
      "There are a few reasons why someone might choose to use Ruff over Flake8:\n",
      "\n",
      "1. Larger rule set: Ruff implements over 800 rules, while Flake8 only implements around 200. This means that Ruff can catch more potential issues in your code.\n",
      "\n",
      "2. Better compatibility with other tools: Ruff is designed to work well with other tools like Black, isort, and type checkers like Mypy. This means that you can use Ruff alongside these tools to get more comprehensive feedback on your code.\n",
      "\n",
      "3. Automatic fixing of lint violations: Unlike Flake8, Ruff is capable of automatically fixing its own lint violations. This can save you time and effort when fixing issues in your code.\n",
      "\n",
      "4. Native implementation of popular Flake8 plugins: Ruff re-implements some of the most popular Flake8 plugins natively, which means you don't have to install and configure multiple plugins to get the same functionality.\n",
      "\n",
      "Overall, Ruff offers a more comprehensive and user-friendly experience compared to Flake8, making it a popular choice for many developers.\u001b[0m\n",
      "Thought:\u001b[32;1m\u001b[1;3m I now know the final answer\n",
      "Final Answer: Ruff offers a larger rule set, better compatibility with other tools, automatic fixing of lint violations, and native implementation of popular Flake8 plugins, making it a more comprehensive and user-friendly option compared to Flake8.\u001b[0m\n",
      "\n",
      "\u001b[1m> Finished chain.\u001b[0m\n"
     ]
    },
    {
     "data": {
      "text/plain": [
       "{'input': 'Why use ruff over flake8?',\n",
       " 'output': 'Ruff offers a larger rule set, better compatibility with other tools, automatic fixing of lint violations, and native implementation of popular Flake8 plugins, making it a more comprehensive and user-friendly option compared to Flake8.'}"
      ]
     },
     "execution_count": 16,
     "metadata": {},
     "output_type": "execute_result"
    }
   ],
   "source": [
    "agent.invoke(\"Why use ruff over flake8?\")"
   ]
  },
  {
   "cell_type": "markdown",
   "id": "787a9b5e",
   "metadata": {},
   "source": [
    "## Use the Agent solely as a router"
   ]
  },
  {
   "cell_type": "markdown",
   "id": "9161ba91",
   "metadata": {},
   "source": [
    "You can also set `return_direct=True` if you intend to use the agent as a router and just want to directly return the result of the RetrievalQAChain.\n",
    "\n",
    "Notice that in the above examples the agent did some extra work after querying the RetrievalQAChain. You can avoid that and just return the result directly."
   ]
  },
  {
   "cell_type": "code",
   "execution_count": 17,
   "id": "f59b377e",
   "metadata": {
    "tags": []
   },
   "outputs": [],
   "source": [
    "tools = [\n",
    "    Tool(\n",
    "        name=\"State of Union QA System\",\n",
    "        func=state_of_union.run,\n",
    "        description=\"useful for when you need to answer questions about the most recent state of the union address. Input should be a fully formed question.\",\n",
    "        return_direct=True,\n",
    "    ),\n",
    "    Tool(\n",
    "        name=\"Ruff QA System\",\n",
    "        func=ruff.run,\n",
    "        description=\"useful for when you need to answer questions about ruff (a python linter). Input should be a fully formed question.\",\n",
    "        return_direct=True,\n",
    "    ),\n",
    "]"
   ]
  },
  {
   "cell_type": "code",
   "execution_count": 18,
   "id": "8615707a",
   "metadata": {
    "tags": []
   },
   "outputs": [],
   "source": [
    "agent = initialize_agent(\n",
    "    tools, llm, agent=AgentType.ZERO_SHOT_REACT_DESCRIPTION, verbose=True\n",
    ")"
   ]
  },
  {
   "cell_type": "code",
   "execution_count": 19,
   "id": "36e718a9",
   "metadata": {
    "tags": []
   },
   "outputs": [
    {
     "name": "stdout",
     "output_type": "stream",
     "text": [
      "\n",
      "\n",
      "\u001b[1m> Entering new AgentExecutor chain...\u001b[0m\n",
      "\u001b[32;1m\u001b[1;3m I should use the State of Union QA System to answer this question.\n",
      "Action: State of Union QA System\n",
      "Action Input: \"What did Biden say about Ketanji Brown Jackson in the state of the union address?\"\u001b[0m\n",
      "Observation: \u001b[36;1m\u001b[1;3m Biden said that he nominated Ketanji Brown Jackson for the United States Supreme Court and praised her as one of the nation's top legal minds who will continue Justice Breyer's legacy of excellence.\u001b[0m\n",
      "\u001b[32;1m\u001b[1;3m\u001b[0m\n",
      "\n",
      "\u001b[1m> Finished chain.\u001b[0m\n"
     ]
    },
    {
     "data": {
      "text/plain": [
       "{'input': 'What did biden say about ketanji brown jackson in the state of the union address?',\n",
       " 'output': \" Biden said that he nominated Ketanji Brown Jackson for the United States Supreme Court and praised her as one of the nation's top legal minds who will continue Justice Breyer's legacy of excellence.\"}"
      ]
     },
     "execution_count": 19,
     "metadata": {},
     "output_type": "execute_result"
    }
   ],
   "source": [
    "agent.invoke(\n",
    "    \"What did biden say about ketanji brown jackson in the state of the union address?\"\n",
    ")"
   ]
  },
  {
   "cell_type": "code",
   "execution_count": 20,
   "id": "edfd0a1a",
   "metadata": {
    "tags": []
   },
   "outputs": [
    {
     "name": "stdout",
     "output_type": "stream",
     "text": [
      "\n",
      "\n",
      "\u001b[1m> Entering new AgentExecutor chain...\u001b[0m\n",
      "\u001b[32;1m\u001b[1;3m Ruff and flake8 are both python linters, so they have similar functions. However, there may be specific reasons why one is preferred over the other.\n",
      "Action: Ruff QA System\n",
      "Action Input: \"Why use ruff over flake8?\"\u001b[0m\n",
      "Observation: \u001b[33;1m\u001b[1;3m\n",
      "There are a few reasons why someone might choose to use Ruff over Flake8:\n",
      "\n",
      "1. Larger rule set: Ruff implements over 800 rules, while Flake8 only implements around 200. This means that Ruff can catch more potential issues in your code.\n",
      "\n",
      "2. Better compatibility with other tools: Ruff is designed to work well with other tools like Black, isort, and type checkers like Mypy. This means that you can use Ruff alongside these tools to get more comprehensive feedback on your code.\n",
      "\n",
      "3. Automatic fixing of lint violations: Unlike Flake8, Ruff is capable of automatically fixing its own lint violations. This can save you time and effort when fixing issues in your code.\n",
      "\n",
      "4. Native implementation of popular Flake8 plugins: Ruff re-implements some of the most popular Flake8 plugins natively, which means you don't have to install and configure multiple plugins to get the same functionality.\n",
      "\n",
      "Overall, Ruff offers a more comprehensive and user-friendly experience compared to Flake8, making it a popular choice for many developers.\u001b[0m\n",
      "\u001b[32;1m\u001b[1;3m\u001b[0m\n",
      "\n",
      "\u001b[1m> Finished chain.\u001b[0m\n"
     ]
    },
    {
     "data": {
      "text/plain": [
       "{'input': 'Why use ruff over flake8?',\n",
       " 'output': \"\\nThere are a few reasons why someone might choose to use Ruff over Flake8:\\n\\n1. Larger rule set: Ruff implements over 800 rules, while Flake8 only implements around 200. This means that Ruff can catch more potential issues in your code.\\n\\n2. Better compatibility with other tools: Ruff is designed to work well with other tools like Black, isort, and type checkers like Mypy. This means that you can use Ruff alongside these tools to get more comprehensive feedback on your code.\\n\\n3. Automatic fixing of lint violations: Unlike Flake8, Ruff is capable of automatically fixing its own lint violations. This can save you time and effort when fixing issues in your code.\\n\\n4. Native implementation of popular Flake8 plugins: Ruff re-implements some of the most popular Flake8 plugins natively, which means you don't have to install and configure multiple plugins to get the same functionality.\\n\\nOverall, Ruff offers a more comprehensive and user-friendly experience compared to Flake8, making it a popular choice for many developers.\"}"
      ]
     },
     "execution_count": 20,
     "metadata": {},
     "output_type": "execute_result"
    }
   ],
   "source": [
    "agent.invoke(\"Why use ruff over flake8?\")"
   ]
  },
  {
   "cell_type": "markdown",
   "id": "49a0cbbe",
   "metadata": {},
   "source": [
    "## Multi-Hop vector store reasoning\n",
    "\n",
    "Because vector stores are easily usable as tools in agents, it is easy to use answer multi-hop questions that depend on vector stores using the existing agent framework."
   ]
  },
  {
   "cell_type": "code",
   "execution_count": 21,
   "id": "d397a233",
   "metadata": {
    "tags": []
   },
   "outputs": [],
   "source": [
    "tools = [\n",
    "    Tool(\n",
    "        name=\"State of Union QA System\",\n",
    "        func=state_of_union.run,\n",
    "        description=\"useful for when you need to answer questions about the most recent state of the union address. Input should be a fully formed question, not referencing any obscure pronouns from the conversation before.\",\n",
    "    ),\n",
    "    Tool(\n",
    "        name=\"Ruff QA System\",\n",
    "        func=ruff.run,\n",
    "        description=\"useful for when you need to answer questions about ruff (a python linter). Input should be a fully formed question, not referencing any obscure pronouns from the conversation before.\",\n",
    "    ),\n",
    "]"
   ]
  },
  {
   "cell_type": "code",
   "execution_count": 22,
   "id": "06157240",
   "metadata": {
    "tags": []
   },
   "outputs": [],
   "source": [
    "# Construct the agent. We will use the default agent type here.\n",
    "# See documentation for a full list of options.\n",
    "agent = initialize_agent(\n",
    "    tools, llm, agent=AgentType.ZERO_SHOT_REACT_DESCRIPTION, verbose=True\n",
    ")"
   ]
  },
  {
   "cell_type": "code",
   "execution_count": 23,
   "id": "b492b520",
   "metadata": {
    "tags": []
   },
   "outputs": [
    {
     "name": "stdout",
     "output_type": "stream",
     "text": [
      "\n",
      "\n",
      "\u001b[1m> Entering new AgentExecutor chain...\u001b[0m\n",
      "\u001b[32;1m\u001b[1;3m I should check both tools to see if they have any information on Jupyter Notebooks.\n",
      "Action: Ruff QA System\n",
      "Action Input: What tool does ruff use to run over Jupyter Notebooks?\u001b[0m\n",
      "Observation: \u001b[33;1m\u001b[1;3m Ruff does not support source.organizeImports and source.fixAll code actions in Jupyter Notebooks.\u001b[0m\n",
      "Thought:\u001b[32;1m\u001b[1;3m This does not answer the question about the tool used.\n",
      "Action: State of Union QA System\n",
      "Action Input: Did the president mention that tool in the state of the union?\u001b[0m\n",
      "Observation: \u001b[36;1m\u001b[1;3m\n",
      "No, the president did not mention a specific tool in the state of the union.\u001b[0m\n",
      "Thought:\u001b[32;1m\u001b[1;3m I now know the final answer.\n",
      "Final Answer: The final answer is that the president did not mention a specific tool in the state of the union for running over Jupyter Notebooks.\u001b[0m\n",
      "\n",
      "\u001b[1m> Finished chain.\u001b[0m\n"
     ]
    },
    {
     "data": {
      "text/plain": [
       "{'input': 'What tool does ruff use to run over Jupyter Notebooks? Did the president mention that tool in the state of the union?',\n",
       " 'output': 'The final answer is that the president did not mention a specific tool in the state of the union for running over Jupyter Notebooks.'}"
      ]
     },
     "execution_count": 23,
     "metadata": {},
     "output_type": "execute_result"
    }
   ],
   "source": [
    "agent.invoke(\n",
    "    \"What tool does ruff use to run over Jupyter Notebooks? Did the president mention that tool in the state of the union?\"\n",
    ")"
   ]
  }
 ],
 "metadata": {
  "kernelspec": {
   "display_name": "base",
   "language": "python",
   "name": "python3"
  },
  "language_info": {
   "codemirror_mode": {
    "name": "ipython",
    "version": 3
   },
   "file_extension": ".py",
   "mimetype": "text/x-python",
   "name": "python",
   "nbconvert_exporter": "python",
   "pygments_lexer": "ipython3",
   "version": "3.11.7"
  }
 },
 "nbformat": 4,
 "nbformat_minor": 5
}
